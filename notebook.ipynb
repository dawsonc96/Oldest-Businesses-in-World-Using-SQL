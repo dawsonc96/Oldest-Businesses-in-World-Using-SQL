{
 "cells": [
  {
   "cell_type": "markdown",
   "metadata": {
    "dc": {
     "key": "3"
    },
    "deletable": false,
    "editable": false,
    "run_control": {
     "frozen": true
    },
    "tags": [
     "context"
    ]
   },
   "source": [
    "## 1. The oldest business in the world\n",
    "<p><img src=\"https://assets.datacamp.com/production/repositories/5851/datasets/7dded924c6dc418d4a828f2f4daba99953c27a5a/400px-Eingang_zum_St._Peter_Stiftskeller.jpg\" alt=\"The entrance to St. Peter Stiftskeller, a restaurant in Saltzburg, Austria. The sign over the entrance shows &quot;803&quot; - the year the business opened.\"></p>\n",
    "<p><em>Image: St. Peter Stiftskeller, founded 803. Credit: <a href=\"https://commons.wikimedia.org/wiki/File:Eingang_zum_St._Peter_Stiftskeller.jpg\">Pakeha</a>.</em></p>\n",
    "<p>An important part of business is planning for the future and ensuring that the company survives changing market conditions. Some businesses do this really well and last for hundreds of years.</p>\n",
    "<p>BusinessFinancing.co.uk <a href=\"https://businessfinancing.co.uk/the-oldest-company-in-almost-every-country\">researched</a> the oldest company that is still in business in (almost) every country and compiled the results into a dataset. In this project, you'll explore that dataset to see what they found.</p>\n",
    "<p>The database contains three tables.</p>\n",
    "<h3 id=\"categories\"><code>categories</code></h3>\n",
    "<table>\n",
    "<thead>\n",
    "<tr>\n",
    "<th style=\"text-align:left;\">column</th>\n",
    "<th>type</th>\n",
    "<th>meaning</th>\n",
    "</tr>\n",
    "</thead>\n",
    "<tbody>\n",
    "<tr>\n",
    "<td style=\"text-align:left;\"><code>category_code</code></td>\n",
    "<td>varchar</td>\n",
    "<td>Code for the category of the business.</td>\n",
    "</tr>\n",
    "<tr>\n",
    "<td style=\"text-align:left;\"><code>category</code></td>\n",
    "<td>varchar</td>\n",
    "<td>Description of the business category.</td>\n",
    "</tr>\n",
    "</tbody>\n",
    "</table>\n",
    "<h3 id=\"countries\"><code>countries</code></h3>\n",
    "<table>\n",
    "<thead>\n",
    "<tr>\n",
    "<th style=\"text-align:left;\">column</th>\n",
    "<th>type</th>\n",
    "<th>meaning</th>\n",
    "</tr>\n",
    "</thead>\n",
    "<tbody>\n",
    "<tr>\n",
    "<td style=\"text-align:left;\"><code>country_code</code></td>\n",
    "<td>varchar</td>\n",
    "<td>ISO 3166-1 3-letter country code.</td>\n",
    "</tr>\n",
    "<tr>\n",
    "<td style=\"text-align:left;\"><code>country</code></td>\n",
    "<td>varchar</td>\n",
    "<td>Name of the country.</td>\n",
    "</tr>\n",
    "<tr>\n",
    "<td style=\"text-align:left;\"><code>continent</code></td>\n",
    "<td>varchar</td>\n",
    "<td>Name of the continent that the country exists in.</td>\n",
    "</tr>\n",
    "</tbody>\n",
    "</table>\n",
    "<h3 id=\"businesses\"><code>businesses</code></h3>\n",
    "<table>\n",
    "<thead>\n",
    "<tr>\n",
    "<th style=\"text-align:left;\">column</th>\n",
    "<th>type</th>\n",
    "<th>meaning</th>\n",
    "</tr>\n",
    "</thead>\n",
    "<tbody>\n",
    "<tr>\n",
    "<td style=\"text-align:left;\"><code>business</code></td>\n",
    "<td>varchar</td>\n",
    "<td>Name of the business.</td>\n",
    "</tr>\n",
    "<tr>\n",
    "<td style=\"text-align:left;\"><code>year_founded</code></td>\n",
    "<td>int</td>\n",
    "<td>Year the business was founded.</td>\n",
    "</tr>\n",
    "<tr>\n",
    "<td style=\"text-align:left;\"><code>category_code</code></td>\n",
    "<td>varchar</td>\n",
    "<td>Code for the category of the business.</td>\n",
    "</tr>\n",
    "<tr>\n",
    "<td style=\"text-align:left;\"><code>country_code</code></td>\n",
    "<td>char</td>\n",
    "<td>ISO 3166-1 3-letter country code.</td>\n",
    "</tr>\n",
    "</tbody>\n",
    "</table>\n",
    "<p>Let's begin by looking at the range of the founding years throughout the world.</p>"
   ]
  },
  {
   "cell_type": "code",
   "execution_count": 4,
   "metadata": {
    "dc": {
     "key": "3"
    },
    "tags": [
     "sample_code"
    ]
   },
   "outputs": [
    {
     "name": "stdout",
     "output_type": "stream",
     "text": [
      "The sql extension is already loaded. To reload it, use:\n",
      "  %reload_ext sql\n"
     ]
    }
   ],
   "source": [
    "%load_ext sql \n",
    "%sql sqlite:///oldestbusinesses.db\n"
   ]
  },
  {
   "cell_type": "code",
   "execution_count": 8,
   "metadata": {},
   "outputs": [
    {
     "name": "stdout",
     "output_type": "stream",
     "text": [
      "   sqlite:///international_debt.db\n",
      "   sqlite:///oldest_businesses.db\n",
      " * sqlite:///oldestbusinesses.db\n",
      "Done.\n"
     ]
    },
    {
     "data": {
      "text/html": [
       "<table>\n",
       "    <tr>\n",
       "        <th>MIN(year_founded)</th>\n",
       "        <th>MAX(year_founded)</th>\n",
       "    </tr>\n",
       "    <tr>\n",
       "        <td>578</td>\n",
       "        <td>1999</td>\n",
       "    </tr>\n",
       "</table>"
      ],
      "text/plain": [
       "[(578, 1999)]"
      ]
     },
     "execution_count": 8,
     "metadata": {},
     "output_type": "execute_result"
    }
   ],
   "source": [
    "%%sql\n",
    "SELECT MIN(year_founded), MAX(year_founded)\n",
    "FROM businesses\n"
   ]
  },
  {
   "cell_type": "markdown",
   "metadata": {
    "dc": {
     "key": "12"
    },
    "deletable": false,
    "editable": false,
    "run_control": {
     "frozen": true
    },
    "tags": [
     "context"
    ]
   },
   "source": [
    "## 2. How many businesses were founded before 1000?\n",
    "<p>Wow! That's a lot of variation between countries. In one country, the oldest business was only founded in 1999. By contrast, the oldest business in the world was founded back in 578. That's pretty incredible that a business has survived for more than a millennium.</p>\n",
    "<p>I wonder how many other businesses there are like that.</p>"
   ]
  },
  {
   "cell_type": "code",
   "execution_count": 10,
   "metadata": {
    "dc": {
     "key": "12"
    },
    "tags": [
     "sample_code"
    ]
   },
   "outputs": [
    {
     "name": "stdout",
     "output_type": "stream",
     "text": [
      "   sqlite:///international_debt.db\n",
      "   sqlite:///oldest_businesses.db\n",
      " * sqlite:///oldestbusinesses.db\n",
      "Done.\n"
     ]
    },
    {
     "data": {
      "text/html": [
       "<table>\n",
       "    <tr>\n",
       "        <th>COUNT(*)</th>\n",
       "    </tr>\n",
       "    <tr>\n",
       "        <td>6</td>\n",
       "    </tr>\n",
       "</table>"
      ],
      "text/plain": [
       "[(6,)]"
      ]
     },
     "execution_count": 10,
     "metadata": {},
     "output_type": "execute_result"
    }
   ],
   "source": [
    "%%sql\n",
    "\n",
    "SELECT COUNT(*)\n",
    "FROM businesses\n",
    "WHERE year_founded < 1000"
   ]
  },
  {
   "cell_type": "markdown",
   "metadata": {
    "dc": {
     "key": "19"
    },
    "deletable": false,
    "editable": false,
    "run_control": {
     "frozen": true
    },
    "tags": [
     "context"
    ]
   },
   "source": [
    "## 3. Which businesses were founded before 1000?\n",
    "<p>Having a count is all very well, but I'd like more detail. Which businesses have been around for more than a millennium?</p>"
   ]
  },
  {
   "cell_type": "code",
   "execution_count": 12,
   "metadata": {
    "dc": {
     "key": "19"
    },
    "tags": [
     "sample_code"
    ]
   },
   "outputs": [
    {
     "name": "stdout",
     "output_type": "stream",
     "text": [
      "   sqlite:///international_debt.db\n",
      "   sqlite:///oldest_businesses.db\n",
      " * sqlite:///oldestbusinesses.db\n",
      "Done.\n"
     ]
    },
    {
     "data": {
      "text/html": [
       "<table>\n",
       "    <tr>\n",
       "        <th>business</th>\n",
       "        <th>year_founded</th>\n",
       "        <th>category_code</th>\n",
       "        <th>country_code</th>\n",
       "    </tr>\n",
       "    <tr>\n",
       "        <td>Kongō Gumi</td>\n",
       "        <td>578</td>\n",
       "        <td>CAT6</td>\n",
       "        <td>JPN</td>\n",
       "    </tr>\n",
       "    <tr>\n",
       "        <td>St. Peter Stifts Kulinarium</td>\n",
       "        <td>803</td>\n",
       "        <td>CAT4</td>\n",
       "        <td>AUT</td>\n",
       "    </tr>\n",
       "    <tr>\n",
       "        <td>Staffelter Hof Winery</td>\n",
       "        <td>862</td>\n",
       "        <td>CAT9</td>\n",
       "        <td>DEU</td>\n",
       "    </tr>\n",
       "    <tr>\n",
       "        <td>Monnaie de Paris </td>\n",
       "        <td>864</td>\n",
       "        <td>CAT12</td>\n",
       "        <td>FRA</td>\n",
       "    </tr>\n",
       "    <tr>\n",
       "        <td>The Royal Mint</td>\n",
       "        <td>886</td>\n",
       "        <td>CAT12</td>\n",
       "        <td>GBR</td>\n",
       "    </tr>\n",
       "    <tr>\n",
       "        <td>Sean&#x27;s Bar</td>\n",
       "        <td>900</td>\n",
       "        <td>CAT4</td>\n",
       "        <td>IRL</td>\n",
       "    </tr>\n",
       "</table>"
      ],
      "text/plain": [
       "[('Kongō Gumi', 578, 'CAT6', 'JPN'),\n",
       " ('St. Peter Stifts Kulinarium', 803, 'CAT4', 'AUT'),\n",
       " ('Staffelter\\xa0Hof Winery', 862, 'CAT9', 'DEU'),\n",
       " ('Monnaie de Paris\\xa0', 864, 'CAT12', 'FRA'),\n",
       " ('The Royal Mint', 886, 'CAT12', 'GBR'),\n",
       " (\"Sean's Bar\", 900, 'CAT4', 'IRL')]"
      ]
     },
     "execution_count": 12,
     "metadata": {},
     "output_type": "execute_result"
    }
   ],
   "source": [
    "%%sql\n",
    "SELECT *\n",
    "FROM businesses\n",
    "WHERE year_founded < 1000\n",
    "ORDER BY year_founded"
   ]
  },
  {
   "cell_type": "markdown",
   "metadata": {
    "dc": {
     "key": "26"
    },
    "deletable": false,
    "editable": false,
    "run_control": {
     "frozen": true
    },
    "tags": [
     "context"
    ]
   },
   "source": [
    "## 4. Exploring the categories\n",
    "<p>Now we know that the oldest, continuously operating company in the world is called Kongō Gumi. But was does that company do? The category codes in the <code>businesses</code> table aren't very helpful: the descriptions of the categories are stored in the <code>categories</code> table.</p>\n",
    "<p>This is a common problem: for data storage, it's better to keep different types of data in different tables, but for analysis, you want all the data in one place. To solve this, you'll have to join the two tables together.</p>"
   ]
  },
  {
   "cell_type": "code",
   "execution_count": 16,
   "metadata": {
    "dc": {
     "key": "26"
    },
    "tags": [
     "sample_code"
    ]
   },
   "outputs": [
    {
     "name": "stdout",
     "output_type": "stream",
     "text": [
      "   sqlite:///international_debt.db\n",
      "   sqlite:///oldest_businesses.db\n",
      " * sqlite:///oldestbusinesses.db\n",
      "Done.\n"
     ]
    },
    {
     "data": {
      "text/html": [
       "<table>\n",
       "    <tr>\n",
       "        <th>business</th>\n",
       "        <th>year_founded</th>\n",
       "        <th>country_code</th>\n",
       "        <th>category</th>\n",
       "    </tr>\n",
       "    <tr>\n",
       "        <td>Kongō Gumi</td>\n",
       "        <td>578</td>\n",
       "        <td>JPN</td>\n",
       "        <td>Construction</td>\n",
       "    </tr>\n",
       "    <tr>\n",
       "        <td>St. Peter Stifts Kulinarium</td>\n",
       "        <td>803</td>\n",
       "        <td>AUT</td>\n",
       "        <td>Cafés, Restaurants &amp; Bars</td>\n",
       "    </tr>\n",
       "    <tr>\n",
       "        <td>Staffelter Hof Winery</td>\n",
       "        <td>862</td>\n",
       "        <td>DEU</td>\n",
       "        <td>Distillers, Vintners, &amp; Breweries</td>\n",
       "    </tr>\n",
       "    <tr>\n",
       "        <td>Monnaie de Paris </td>\n",
       "        <td>864</td>\n",
       "        <td>FRA</td>\n",
       "        <td>Manufacturing &amp; Production</td>\n",
       "    </tr>\n",
       "    <tr>\n",
       "        <td>The Royal Mint</td>\n",
       "        <td>886</td>\n",
       "        <td>GBR</td>\n",
       "        <td>Manufacturing &amp; Production</td>\n",
       "    </tr>\n",
       "    <tr>\n",
       "        <td>Sean&#x27;s Bar</td>\n",
       "        <td>900</td>\n",
       "        <td>IRL</td>\n",
       "        <td>Cafés, Restaurants &amp; Bars</td>\n",
       "    </tr>\n",
       "</table>"
      ],
      "text/plain": [
       "[('Kongō Gumi', 578, 'JPN', 'Construction'),\n",
       " ('St. Peter Stifts Kulinarium', 803, 'AUT', 'Cafés, Restaurants & Bars'),\n",
       " ('Staffelter\\xa0Hof Winery', 862, 'DEU', 'Distillers, Vintners, & Breweries'),\n",
       " ('Monnaie de Paris\\xa0', 864, 'FRA', 'Manufacturing & Production'),\n",
       " ('The Royal Mint', 886, 'GBR', 'Manufacturing & Production'),\n",
       " (\"Sean's Bar\", 900, 'IRL', 'Cafés, Restaurants & Bars')]"
      ]
     },
     "execution_count": 16,
     "metadata": {},
     "output_type": "execute_result"
    }
   ],
   "source": [
    "%%sql\n",
    "SELECT business, year_founded, country_code, category\n",
    "FROM businesses AS b\n",
    "INNER JOIN categories AS c\n",
    "ON b.category_code = c.category_code\n",
    "WHERE year_founded < 1000\n",
    "ORDER BY year_founded"
   ]
  },
  {
   "cell_type": "markdown",
   "metadata": {
    "dc": {
     "key": "33"
    },
    "deletable": false,
    "editable": false,
    "run_control": {
     "frozen": true
    },
    "tags": [
     "context"
    ]
   },
   "source": [
    "## 5. Counting the categories\n",
    "<p>With that extra detail about the oldest businesses, we can see that Kongō Gumi is a construction company. In that list of six businesses, we also see a café, a winery, and a bar. The two companies recorded as \"Manufacturing and Production\" are both mints. That is, they produce currency.</p>\n",
    "<p>I'm curious as to what other industries constitute the oldest companies around the world, and which industries are most common.</p>"
   ]
  },
  {
   "cell_type": "code",
   "execution_count": 19,
   "metadata": {
    "dc": {
     "key": "33"
    },
    "tags": [
     "sample_code"
    ]
   },
   "outputs": [
    {
     "name": "stdout",
     "output_type": "stream",
     "text": [
      "   sqlite:///international_debt.db\n",
      "   sqlite:///oldest_businesses.db\n",
      " * sqlite:///oldestbusinesses.db\n",
      "Done.\n"
     ]
    },
    {
     "data": {
      "text/html": [
       "<table>\n",
       "    <tr>\n",
       "        <th>category</th>\n",
       "        <th>n</th>\n",
       "    </tr>\n",
       "    <tr>\n",
       "        <td>Banking &amp; Finance</td>\n",
       "        <td>37</td>\n",
       "    </tr>\n",
       "    <tr>\n",
       "        <td>Distillers, Vintners, &amp; Breweries</td>\n",
       "        <td>22</td>\n",
       "    </tr>\n",
       "    <tr>\n",
       "        <td>Aviation &amp; Transport</td>\n",
       "        <td>19</td>\n",
       "    </tr>\n",
       "    <tr>\n",
       "        <td>Postal Service</td>\n",
       "        <td>16</td>\n",
       "    </tr>\n",
       "    <tr>\n",
       "        <td>Manufacturing &amp; Production</td>\n",
       "        <td>15</td>\n",
       "    </tr>\n",
       "    <tr>\n",
       "        <td>Media</td>\n",
       "        <td>7</td>\n",
       "    </tr>\n",
       "    <tr>\n",
       "        <td>Food &amp; Beverages</td>\n",
       "        <td>6</td>\n",
       "    </tr>\n",
       "    <tr>\n",
       "        <td>Cafés, Restaurants &amp; Bars</td>\n",
       "        <td>6</td>\n",
       "    </tr>\n",
       "    <tr>\n",
       "        <td>Agriculture</td>\n",
       "        <td>6</td>\n",
       "    </tr>\n",
       "    <tr>\n",
       "        <td>Tourism &amp; Hotels</td>\n",
       "        <td>4</td>\n",
       "    </tr>\n",
       "</table>"
      ],
      "text/plain": [
       "[('Banking & Finance', 37),\n",
       " ('Distillers, Vintners, & Breweries', 22),\n",
       " ('Aviation & Transport', 19),\n",
       " ('Postal Service', 16),\n",
       " ('Manufacturing & Production', 15),\n",
       " ('Media', 7),\n",
       " ('Food & Beverages', 6),\n",
       " ('Cafés, Restaurants & Bars', 6),\n",
       " ('Agriculture', 6),\n",
       " ('Tourism & Hotels', 4)]"
      ]
     },
     "execution_count": 19,
     "metadata": {},
     "output_type": "execute_result"
    }
   ],
   "source": [
    "%%sql \n",
    "SELECT \n",
    "    c.category, \n",
    "    COUNT(category) AS n\n",
    "FROM categories as c\n",
    "INNER JOIN businesses as b\n",
    "    ON b.category_code = c.category_code\n",
    "GROUP BY c.category\n",
    "ORDER BY n DESC\n",
    "LIMIT 10;"
   ]
  },
  {
   "cell_type": "markdown",
   "metadata": {
    "dc": {
     "key": "40"
    },
    "deletable": false,
    "editable": false,
    "run_control": {
     "frozen": true
    },
    "tags": [
     "context"
    ]
   },
   "source": [
    "## 6. Oldest business by continent\n",
    "<p>It looks like \"Banking &amp; Finance\" is the most popular category. Maybe that's where you should aim if you want to start a thousand-year business.</p>\n",
    "<p>One thing we haven't looked at yet is where in the world these really old businesses are. To answer these questions, we'll need to join the <code>businesses</code> table to the <code>countries</code> table. Let's start by asking how old the oldest business is on each continent.</p>"
   ]
  },
  {
   "cell_type": "code",
   "execution_count": 22,
   "metadata": {
    "dc": {
     "key": "40"
    },
    "tags": [
     "sample_code"
    ]
   },
   "outputs": [
    {
     "name": "stdout",
     "output_type": "stream",
     "text": [
      "   sqlite:///international_debt.db\n",
      "   sqlite:///oldest_businesses.db\n",
      " * sqlite:///oldestbusinesses.db\n",
      "Done.\n"
     ]
    },
    {
     "data": {
      "text/html": [
       "<table>\n",
       "    <tr>\n",
       "        <th>oldest</th>\n",
       "        <th>continent</th>\n",
       "    </tr>\n",
       "    <tr>\n",
       "        <td>578</td>\n",
       "        <td>Asia</td>\n",
       "    </tr>\n",
       "    <tr>\n",
       "        <td>803</td>\n",
       "        <td>Europe</td>\n",
       "    </tr>\n",
       "    <tr>\n",
       "        <td>1534</td>\n",
       "        <td>North America</td>\n",
       "    </tr>\n",
       "    <tr>\n",
       "        <td>1565</td>\n",
       "        <td>South America</td>\n",
       "    </tr>\n",
       "    <tr>\n",
       "        <td>1772</td>\n",
       "        <td>Africa</td>\n",
       "    </tr>\n",
       "    <tr>\n",
       "        <td>1809</td>\n",
       "        <td>Oceania</td>\n",
       "    </tr>\n",
       "</table>"
      ],
      "text/plain": [
       "[(578, 'Asia'),\n",
       " (803, 'Europe'),\n",
       " (1534, 'North America'),\n",
       " (1565, 'South America'),\n",
       " (1772, 'Africa'),\n",
       " (1809, 'Oceania')]"
      ]
     },
     "execution_count": 22,
     "metadata": {},
     "output_type": "execute_result"
    }
   ],
   "source": [
    "%%sql\n",
    "\n",
    "SELECT MIN(year_founded) AS oldest, continent\n",
    "FROM countries AS c\n",
    "INNER JOIN businesses AS b\n",
    "ON b.country_code = c.country_code\n",
    "GROUP BY continent\n",
    "ORDER BY year_founded"
   ]
  },
  {
   "cell_type": "markdown",
   "metadata": {
    "dc": {
     "key": "47"
    },
    "deletable": false,
    "editable": false,
    "run_control": {
     "frozen": true
    },
    "tags": [
     "context"
    ]
   },
   "source": [
    "## 7. Joining everything for further analysis\n",
    "<p>Interesting. There's a jump in time from the older businesses in Asia and Europe to the 16th Century oldest businesses in North and South America, then to the 18th and 19th Century oldest businesses in Africa and Oceania. </p>\n",
    "<p>As mentioned earlier, when analyzing data it's often really helpful to have all the tables you want access to joined together into a single set of results that can be analyzed further. Here, that means we need to join all three tables.</p>"
   ]
  },
  {
   "cell_type": "code",
   "execution_count": null,
   "metadata": {
    "collapsed": true,
    "dc": {
     "key": "47"
    },
    "jupyter": {
     "outputs_hidden": true
    },
    "tags": [
     "sample_code"
    ]
   },
   "outputs": [],
   "source": [
    "%%sql\n",
    "\n",
    "-- Select the business, founding year, category, country, and continent\n",
    "..."
   ]
  },
  {
   "cell_type": "markdown",
   "metadata": {
    "dc": {
     "key": "54"
    },
    "deletable": false,
    "editable": false,
    "run_control": {
     "frozen": true
    },
    "tags": [
     "context"
    ]
   },
   "source": [
    "## 8. Counting categories by continent\n",
    "<p>Having <code>businesses</code> joined to <code>categories</code> and <code>countries</code> together means we can ask questions about both these things together. For example, which are the most common categories for the oldest businesses on each continent?</p>"
   ]
  },
  {
   "cell_type": "code",
   "execution_count": null,
   "metadata": {
    "collapsed": true,
    "dc": {
     "key": "54"
    },
    "jupyter": {
     "outputs_hidden": true
    },
    "tags": [
     "sample_code"
    ]
   },
   "outputs": [],
   "source": [
    "%%sql\n",
    "\n",
    "-- Count the number of businesses in each continent and category\n",
    "..."
   ]
  },
  {
   "cell_type": "markdown",
   "metadata": {
    "dc": {
     "key": "61"
    },
    "deletable": false,
    "editable": false,
    "run_control": {
     "frozen": true
    },
    "tags": [
     "context"
    ]
   },
   "source": [
    "## 9. Filtering counts by continent and category\n",
    "<p>Combining continent and business category led to a lot of results. It's difficult to see what is important. To trim this down to a manageable size, let's restrict the results to only continent/category pairs with a high count.</p>"
   ]
  },
  {
   "cell_type": "code",
   "execution_count": null,
   "metadata": {
    "collapsed": true,
    "dc": {
     "key": "61"
    },
    "jupyter": {
     "outputs_hidden": true
    },
    "tags": [
     "sample_code"
    ]
   },
   "outputs": [],
   "source": [
    "%%sql\n",
    "\n",
    "-- Repeat that previous query, filtering for results having a count greater than 5\n",
    "..."
   ]
  }
 ],
 "metadata": {
  "kernelspec": {
   "display_name": "Python 3",
   "language": "python",
   "name": "python3"
  },
  "language_info": {
   "codemirror_mode": {
    "name": "ipython",
    "version": 3
   },
   "file_extension": ".py",
   "mimetype": "text/x-python",
   "name": "python",
   "nbconvert_exporter": "python",
   "pygments_lexer": "ipython3",
   "version": "3.8.5"
  }
 },
 "nbformat": 4,
 "nbformat_minor": 4
}
